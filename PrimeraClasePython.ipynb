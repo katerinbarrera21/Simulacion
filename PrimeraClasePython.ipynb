{
  "nbformat": 4,
  "nbformat_minor": 0,
  "metadata": {
    "colab": {
      "name": "PrimeraClasePython.ipynb",
      "provenance": [],
      "authorship_tag": "ABX9TyPNt2iNYristqt2onxRDd2t",
      "include_colab_link": true
    },
    "kernelspec": {
      "name": "python3",
      "display_name": "Python 3"
    },
    "language_info": {
      "name": "python"
    }
  },
  "cells": [
    {
      "cell_type": "markdown",
      "metadata": {
        "id": "view-in-github",
        "colab_type": "text"
      },
      "source": [
        "<a href=\"https://colab.research.google.com/github/katerinbarrera21/Simulacion/blob/main/PrimeraClasePython.ipynb\" target=\"_parent\"><img src=\"https://colab.research.google.com/assets/colab-badge.svg\" alt=\"Open In Colab\"/></a>"
      ]
    },
    {
      "cell_type": "code",
      "execution_count": 2,
      "metadata": {
        "colab": {
          "base_uri": "https://localhost:8080/"
        },
        "id": "HAQNGPGa7JYS",
        "outputId": "be703d24-13fc-43f2-e3f3-34bc6976322f"
      },
      "outputs": [
        {
          "output_type": "stream",
          "name": "stdout",
          "text": [
            "Holis\n"
          ]
        }
      ],
      "source": [
        "print ('Holis')\n"
      ]
    }
  ]
}