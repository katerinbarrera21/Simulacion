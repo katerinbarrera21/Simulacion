{
  "nbformat": 4,
  "nbformat_minor": 0,
  "metadata": {
    "colab": {
      "name": "ExamenSimu.ipynb",
      "provenance": [],
      "authorship_tag": "ABX9TyM8lL+AA5xntZcv1zRHjR2x",
      "include_colab_link": true
    },
    "kernelspec": {
      "name": "python3",
      "display_name": "Python 3"
    },
    "language_info": {
      "name": "python"
    }
  },
  "cells": [
    {
      "cell_type": "markdown",
      "metadata": {
        "id": "view-in-github",
        "colab_type": "text"
      },
      "source": [
        "<a href=\"https://colab.research.google.com/github/katerinbarrera21/Simulacion/blob/main/tareas2/ExamenSimu.ipynb\" target=\"_parent\"><img src=\"https://colab.research.google.com/assets/colab-badge.svg\" alt=\"Open In Colab\"/></a>"
      ]
    },
    {
      "cell_type": "code",
      "execution_count": null,
      "metadata": {
        "id": "mW0pYxmTD7Du"
      },
      "outputs": [],
      "source": [
        ""
      ]
    },
    {
      "cell_type": "markdown",
      "source": [
        "La empresa desea saber si tiene los recursos necesarios para soportar la demanda de los\n",
        "usuarios. En base a ello, diseñe y desarrolle un modelo y/o script que permita realizar la\n",
        "simulación de movilizaciones de personas desde un lugar del Ecuador a otro para la\n",
        "empresa de turismo de venta de tickets y ver si el número de buses darán soporte:\n",
        "* Investigar los lugares de mayor afluencia dentro del Ecuador minimo 6.\n",
        "* El número de la flota de buses son 5, con una capacidad de 40 pasajeros cada uno.\n",
        "* Generar personas, un nombre, el género(Bernoulli), y la edad adultos (Poison)\n",
        "aleatoriamente.\n",
        "* Un usuario realiza la compra de un boleto desde un lugar de origen a un destino y\n",
        "puede comprar de 1 a 6 tickets.\n",
        "* Es escoge aleatoriamente el origen y el destino con mayores pesos de selección lo\n",
        "de mayor afluencia.\n",
        "* Se agrega el tiempo de la compra la misma que tiene una distribución de\n",
        "probabilidad normal con media de 10 minutos y desviación estándar de 2 minutos.\n",
        "* El bus sale cada hora, este o no lleno, una vez que el bus sale no pueden subir, hasta\n",
        "que llegue a la parada, regresa el bus el mismo tiempo que se demora en llegar al\n",
        "destino, generar el tiempo de viaje utilizando una distribución de 6 horas y\n",
        "desviacion estandar de 4 horas.\n",
        "* Agregar graficas/reportes\n",
        "* Venta de tickets.\n",
        "* Personas que se quedaron sin comprar tickets\n",
        "* Lugares de origen y destino más visitados.\n",
        "* Numero de buses y el uso del mismo diarios\n",
        "Este proceso, se ejecuta diariamente, ejecutar por 7 dias.\n",
        "\n",
        "\n",
        "\n"
      ],
      "metadata": {
        "id": "LduBePw6ELFU"
      }
    },
    {
      "cell_type": "code",
      "source": [
        "pip install simpy"
      ],
      "metadata": {
        "colab": {
          "base_uri": "https://localhost:8080/"
        },
        "id": "lRHglf8ZFUHy",
        "outputId": "a580f75d-73ef-469d-bd06-2cf3d660739f"
      },
      "execution_count": null,
      "outputs": [
        {
          "output_type": "stream",
          "name": "stdout",
          "text": [
            "Looking in indexes: https://pypi.org/simple, https://us-python.pkg.dev/colab-wheels/public/simple/\n",
            "Collecting simpy\n",
            "  Downloading simpy-4.0.1-py2.py3-none-any.whl (29 kB)\n",
            "Installing collected packages: simpy\n",
            "Successfully installed simpy-4.0.1\n"
          ]
        }
      ]
    },
    {
      "cell_type": "code",
      "source": [
        "import simpy\n",
        "import random\n",
        "import matplotlib.pyplot as plt\n",
        "import math\n",
        "from scipy.stats import poisson\n",
        "from scipy.stats import bernoulli\n"
      ],
      "metadata": {
        "id": "6Iwyj-JIFQLp"
      },
      "execution_count": null,
      "outputs": []
    },
    {
      "cell_type": "code",
      "source": [
        "\n",
        "\n",
        "NOMBREUSUARIO =''\n",
        "GENEROUSUARIO= ''\n",
        "EDADADULTO=0;\n",
        "LUGARESVISITADOS= ['Quito','Guayaquil', 'Cuenca', 'Baños', 'Cotopaxi', 'Montañita']\n",
        "ORIGEN =0\n",
        "salidaBus=60 \n",
        "PeriodotiempoDeViaje=360\n",
        "TIEMPO_SIMULACION= 420\n",
        "cont=0\n",
        "destino=[]\n",
        "personas=[]\n",
        "\n",
        "capBus = 40 \n",
        "numBusDis = 5 \n",
        "\n",
        "class estacionBus(object):\n",
        "    \n",
        "    def __init__(self, environment):\n",
        "        self.env=environment\n",
        "        self.numbuses =5\n",
        "        self.busesCap =40\n",
        "    ##Tiempo de espera compra boletos\n",
        "    \n",
        "    def origenDestinoTiempo(self, tiempollegar): \n",
        "      yield self.env.timeout(tiempoDemoraViaje())\n",
        "    def destinoOrigenTiempo(self, tiempollegar):\n",
        "      yield self.env.timeout(tiempoDemoraViaje())\n",
        "\n",
        "def crearNombreUsuario():\n",
        "  nombre = cont+1\n",
        "  return nombre\n",
        "def crearGeneroUsuario():\n",
        "  genero = bernoulli.rvs(p, size=1)\n",
        "def crearEdadUsuario():\n",
        "  r = poisson.rvs(mu, size=1)\n",
        "\n",
        "def tiempoDemoraViaje():\n",
        "    return abs(random.normalvariate(6*60, 4*60))\n",
        "\n",
        "def compratotalBoletos():\n",
        "  totalCompraBoletos = random.randint(1, 6)\n",
        "  return totalCompraBoletos\n",
        "def estacionLugaresOrigen():\n",
        "  origenP=[0.5, 0.3, 0.4, 0.1, 0.3, 0.2]\n",
        "  origen = random.choices(LUGARESVISITADOS, origenP, cont1=1)\n",
        "  return origen\n",
        "\n",
        "def estacionLugaresDes():\n",
        "  destinoP=[0.3, 0.2, 0.3, 0.4, 0.5, 0.6]\n",
        "  destino = random.choices(LUGARESVISITADOS, destinoP, cont1=1)\n",
        "  return  destino\n",
        "\n",
        "\n",
        "def terminal(env, transporte, persona):\n",
        "   \n",
        "    \n",
        "    print( \"Entra compra Boletos:  \", env.now())\n",
        "    numBol= compratotalBoletos()\n",
        "    print( \"Pide Numero de  Boletos:  \", env.now())\n",
        "    print (\"total de boletos: \", numBol)\n",
        "    print (\"revisar si existe capacidad\")\n",
        "    with estacionBus.numbuses.request() as bus:\n",
        "      if ( numBol  < bus.busesCap ):\n",
        "        print(\"El bus tiene capacidad para comprar\")\n",
        "        print(\"Bus sale desde\", estacionLugaresOrigen)\n",
        "        print(\"Bus destino es \", estacionLugaresDes)\n",
        "        tiempoCompra = abs(random.normalvariate(10, 2))\n",
        "        yield env.timeout(tiempoCompra)\n",
        "        print( \"Tiempo actual despues de esperar por comprar Boletos:  \", env.now())\n",
        "  \n",
        "def ejecutar_simulacion(env):\n",
        "   \n",
        "    terminal=estacionBus(env)\n",
        "    cont = 1\n",
        "    while True:\n",
        "      yield env.timeout(1)\n",
        "      \n",
        "env.process(terminal(env, transporte, persona))\n",
        "cont+=1       \n"
      ],
      "metadata": {
        "id": "5ySP8erJEX20"
      },
      "execution_count": null,
      "outputs": []
    }
  ]
}