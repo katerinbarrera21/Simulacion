{
  "nbformat": 4,
  "nbformat_minor": 0,
  "metadata": {
    "colab": {
      "name": "prueba1KB.ipynb",
      "provenance": [],
      "collapsed_sections": [],
      "authorship_tag": "ABX9TyNBkOTrlEFKIHTAmCMh6m6d",
      "include_colab_link": true
    },
    "kernelspec": {
      "name": "python3",
      "display_name": "Python 3"
    },
    "language_info": {
      "name": "python"
    }
  },
  "cells": [
    {
      "cell_type": "markdown",
      "metadata": {
        "id": "view-in-github",
        "colab_type": "text"
      },
      "source": [
        "<a href=\"https://colab.research.google.com/github/katerinbarrera21/Simulacion/blob/main/Evaluaci%C3%B3n/prueba1KB.ipynb\" target=\"_parent\"><img src=\"https://colab.research.google.com/assets/colab-badge.svg\" alt=\"Open In Colab\"/></a>"
      ]
    },
    {
      "cell_type": "markdown",
      "source": [
        "Fecha: 4/5/2022\n",
        "\n",
        "En base a ello obtener lo siguiente:\n",
        "Generar gráficas para entender y procesar los datos\n",
        "*   Generar gráfico de barras de solo las empresas que han mejorado y/o\n",
        "empeorado su ranking con respecto al año anterior.\n",
        "* Generar gráfico de las empresas que tienen panamá papers.\n",
        "* Generar un pie de las empresas que más aportan a la economía del país.\n",
        "* Obtener las empresas que mayor patrimonio tienen (10).\n",
        "* El proceso desarrollado deberá considerar los siguientes aspectos:\n",
        "* Generar un cuaderno de Google Colabs para el desarrollo y parametrización de\n",
        "gráficas y reportes.\n",
        "* Generar un análisis y conclusiones de los datos y graficas obtenidas.\n",
        "* Recomendaciones.\n",
        "•Fechas de Presentación: 04/05/2022 – 11:00 Subir al Avac en formato PDF y link del Google\n",
        "Colabs.\n",
        "* Puntos Adicionales:\n",
        "▪ Generar una regresión lineal del ingreso de las 5 principales empresas teniendo al\n",
        "menos 10 años de datos."
      ],
      "metadata": {
        "id": "9QHiGHRcomsz"
      }
    },
    {
      "cell_type": "markdown",
      "source": [
        ""
      ],
      "metadata": {
        "id": "WhGu3qZE8LfF"
      }
    },
    {
      "cell_type": "code",
      "source": [
        "from google.colab import drive\n",
        "drive.mount('/content/drive')"
      ],
      "metadata": {
        "colab": {
          "base_uri": "https://localhost:8080/"
        },
        "id": "-0b26Hvera4e",
        "outputId": "498e8040-cb04-40b8-8874-e91d9d64821f"
      },
      "execution_count": null,
      "outputs": [
        {
          "output_type": "stream",
          "name": "stdout",
          "text": [
            "Drive already mounted at /content/drive; to attempt to forcibly remount, call drive.mount(\"/content/drive\", force_remount=True).\n"
          ]
        }
      ]
    },
    {
      "cell_type": "code",
      "execution_count": null,
      "metadata": {
        "id": "QyHcgFxNokkm",
        "colab": {
          "base_uri": "https://localhost:8080/"
        },
        "outputId": "cf94f8b1-5158-4ee9-94dd-b6bafe45d507"
      },
      "outputs": [
        {
          "output_type": "stream",
          "name": "stdout",
          "text": [
            "/content/drive/My Drive/Colab Notebooks/prueba\n",
            "'Conformación de los Grupos Económicos y su Comportamiento Tributario (1).xlsx'\n",
            "'Conformación de los Grupos Económicos y su Comportamiento Tributario (4) (1).xlsx.xlsx'\n",
            "'Conformación de los Grupos Económicos y su Comportamiento Tributario.csv'\n"
          ]
        }
      ],
      "source": [
        "%cd /content/drive/My Drive/Colab Notebooks/prueba\n",
        "!ls"
      ]
    },
    {
      "cell_type": "code",
      "source": [
        "\n",
        "import matplotlib.pyplot as plt\n",
        "import numpy as np\n",
        "import pandas as pd\n",
        "import io\n",
        "from google.colab import files\n",
        "import plotly.graph_objects as go"
      ],
      "metadata": {
        "id": "UZSobGBqtNQj"
      },
      "execution_count": null,
      "outputs": []
    },
    {
      "cell_type": "code",
      "source": [
        "file_name = \"Conformación de los Grupos Económicos y su Comportamiento Tributario (4) (1).xlsx\" # File name\n",
        "sheet_name = 0 # 4th sheet\n",
        "header = 0 # The header is the 2nd row\n",
        "df = pd.read_excel(\"Conformación de los Grupos Económicos y su Comportamiento Tributario (4) (1).xlsx\", sheet_name = sheet_name, header = header)\n",
        "(df.head()) # Prints first 5 rows from the top along with the header\n"
      ],
      "metadata": {
        "colab": {
          "base_uri": "https://localhost:8080/",
          "height": 734
        },
        "id": "IwpJNEOFxreP",
        "outputId": "70980cfc-6a86-4bab-f36e-e9d08764f106"
      },
      "execution_count": 80,
      "outputs": [
        {
          "output_type": "execute_result",
          "data": {
            "text/plain": [
              "   Unnamed: 0  Ranking Tamaño  2021  Ranking Tamaño  2020  \\\n",
              "0           0                     1                     1   \n",
              "1           1                     2                     2   \n",
              "2           2                     3                     3   \n",
              "3           3                     4                     5   \n",
              "4           4                     5                     4   \n",
              "\n",
              "   Variación Ranking Tamaño 2020 - 2021 NUEVO GE  \\\n",
              "0                                     0      NaN   \n",
              "1                                     0      NaN   \n",
              "2                                     0      NaN   \n",
              "3                                     1      NaN   \n",
              "4                                    -1      NaN   \n",
              "\n",
              "                              Nombre Grupo Económico  \\\n",
              "0  BANCO PICHINCHA (DINERS CLUB DEL ECUADOR, BANC...   \n",
              "1  ALMACENES JUAN ELJURI (BANCO DEL AUSTRO, AEKIA...   \n",
              "2  CORPORACIÓN FAVORITA (COMERCIAL KIWY, SUKASA, ...   \n",
              "3  BANCO DE GUAYAQUIL (CORPORACION MULTIBG, FIDEI...   \n",
              "4  SCHLUMBERGER DEL ECUADOR (CONSORCIO SHUSHUFIND...   \n",
              "\n",
              "  Reporta sus BENEFICIARIOS EFECTIVOS  \\\n",
              "0                        PARCIALMENTE   \n",
              "1                        PARCIALMENTE   \n",
              "2                        PARCIALMENTE   \n",
              "3                                  SI   \n",
              "4                                  NO   \n",
              "\n",
              "   No. de Integrantes domiciliados en PARAÍSOS FISCALES  \\\n",
              "0                                                  2      \n",
              "1                                                 45      \n",
              "2                                                  4      \n",
              "3                                                  2      \n",
              "4                                                  8      \n",
              "\n",
              "   No. de Integrantes y Empresas Offshore relacionadas con el Grupo Económico publicados en PANAMÁ PAPERS  \\\n",
              "0                                                  0                                                        \n",
              "1                                                 42                                                        \n",
              "2                                                  5                                                        \n",
              "3                                                  0                                                        \n",
              "4                                                  0                                                        \n",
              "\n",
              "   Personas Naturales  ...  Impuesto Causado ISD 2019  \\\n",
              "0                   3  ...                  221893.35   \n",
              "1                  17  ...                 4339679.14   \n",
              "2                  20  ...                 1617777.87   \n",
              "3                   9  ...                   86918.43   \n",
              "4                   0  ...                  237591.28   \n",
              "\n",
              "   Impuesto Causado IAE 2020 (5)  Impuesto Causado IAE 2019 (5)  \\\n",
              "0                        3509949                        3577970   \n",
              "1                         796827                         945874   \n",
              "2                              0                              0   \n",
              "3                        4785739                        5678838   \n",
              "4                              0                              0   \n",
              "\n",
              "   Total Activo (6) 2020  Total Activo (6) 2019  Total Patrimonio (7) 2020  \\\n",
              "0            18949015666            17928760492                 3688293052   \n",
              "1             6417335168             6436090837                 1878733441   \n",
              "2             3448646302             3343835273                 2427005282   \n",
              "3             6014463154             5334073117                  784042300   \n",
              "4             3286786210             3616608480                 2426480097   \n",
              "\n",
              "   Total Patrimonio (7) 2019  Total Recaudado (8) 2020  \\\n",
              "0                 3699748891                 588975950   \n",
              "1                 1955377497                 127087663   \n",
              "2                 2314556018                 144524011   \n",
              "3                  791999072                 206200661   \n",
              "4                 2305837270                 202204211   \n",
              "\n",
              "   Total Recaudado (8) 2019  Total Deuda Generada(9)  \n",
              "0                 667872172                      NaN  \n",
              "1                 190328750                      NaN  \n",
              "2                 139310219                      NaN  \n",
              "3                 234359513                      NaN  \n",
              "4                 152342627                      NaN  \n",
              "\n",
              "[5 rows x 41 columns]"
            ],
            "text/html": [
              "\n",
              "  <div id=\"df-43e34ab8-6f89-41b4-b1cc-34fcab1f67be\">\n",
              "    <div class=\"colab-df-container\">\n",
              "      <div>\n",
              "<style scoped>\n",
              "    .dataframe tbody tr th:only-of-type {\n",
              "        vertical-align: middle;\n",
              "    }\n",
              "\n",
              "    .dataframe tbody tr th {\n",
              "        vertical-align: top;\n",
              "    }\n",
              "\n",
              "    .dataframe thead th {\n",
              "        text-align: right;\n",
              "    }\n",
              "</style>\n",
              "<table border=\"1\" class=\"dataframe\">\n",
              "  <thead>\n",
              "    <tr style=\"text-align: right;\">\n",
              "      <th></th>\n",
              "      <th>Unnamed: 0</th>\n",
              "      <th>Ranking Tamaño  2021</th>\n",
              "      <th>Ranking Tamaño  2020</th>\n",
              "      <th>Variación Ranking Tamaño 2020 - 2021</th>\n",
              "      <th>NUEVO GE</th>\n",
              "      <th>Nombre Grupo Económico</th>\n",
              "      <th>Reporta sus BENEFICIARIOS EFECTIVOS</th>\n",
              "      <th>No. de Integrantes domiciliados en PARAÍSOS FISCALES</th>\n",
              "      <th>No. de Integrantes y Empresas Offshore relacionadas con el Grupo Económico publicados en PANAMÁ PAPERS</th>\n",
              "      <th>Personas Naturales</th>\n",
              "      <th>...</th>\n",
              "      <th>Impuesto Causado ISD 2019</th>\n",
              "      <th>Impuesto Causado IAE 2020 (5)</th>\n",
              "      <th>Impuesto Causado IAE 2019 (5)</th>\n",
              "      <th>Total Activo (6) 2020</th>\n",
              "      <th>Total Activo (6) 2019</th>\n",
              "      <th>Total Patrimonio (7) 2020</th>\n",
              "      <th>Total Patrimonio (7) 2019</th>\n",
              "      <th>Total Recaudado (8) 2020</th>\n",
              "      <th>Total Recaudado (8) 2019</th>\n",
              "      <th>Total Deuda Generada(9)</th>\n",
              "    </tr>\n",
              "  </thead>\n",
              "  <tbody>\n",
              "    <tr>\n",
              "      <th>0</th>\n",
              "      <td>0</td>\n",
              "      <td>1</td>\n",
              "      <td>1</td>\n",
              "      <td>0</td>\n",
              "      <td>NaN</td>\n",
              "      <td>BANCO PICHINCHA (DINERS CLUB DEL ECUADOR, BANC...</td>\n",
              "      <td>PARCIALMENTE</td>\n",
              "      <td>2</td>\n",
              "      <td>0</td>\n",
              "      <td>3</td>\n",
              "      <td>...</td>\n",
              "      <td>221893.35</td>\n",
              "      <td>3509949</td>\n",
              "      <td>3577970</td>\n",
              "      <td>18949015666</td>\n",
              "      <td>17928760492</td>\n",
              "      <td>3688293052</td>\n",
              "      <td>3699748891</td>\n",
              "      <td>588975950</td>\n",
              "      <td>667872172</td>\n",
              "      <td>NaN</td>\n",
              "    </tr>\n",
              "    <tr>\n",
              "      <th>1</th>\n",
              "      <td>1</td>\n",
              "      <td>2</td>\n",
              "      <td>2</td>\n",
              "      <td>0</td>\n",
              "      <td>NaN</td>\n",
              "      <td>ALMACENES JUAN ELJURI (BANCO DEL AUSTRO, AEKIA...</td>\n",
              "      <td>PARCIALMENTE</td>\n",
              "      <td>45</td>\n",
              "      <td>42</td>\n",
              "      <td>17</td>\n",
              "      <td>...</td>\n",
              "      <td>4339679.14</td>\n",
              "      <td>796827</td>\n",
              "      <td>945874</td>\n",
              "      <td>6417335168</td>\n",
              "      <td>6436090837</td>\n",
              "      <td>1878733441</td>\n",
              "      <td>1955377497</td>\n",
              "      <td>127087663</td>\n",
              "      <td>190328750</td>\n",
              "      <td>NaN</td>\n",
              "    </tr>\n",
              "    <tr>\n",
              "      <th>2</th>\n",
              "      <td>2</td>\n",
              "      <td>3</td>\n",
              "      <td>3</td>\n",
              "      <td>0</td>\n",
              "      <td>NaN</td>\n",
              "      <td>CORPORACIÓN FAVORITA (COMERCIAL KIWY, SUKASA, ...</td>\n",
              "      <td>PARCIALMENTE</td>\n",
              "      <td>4</td>\n",
              "      <td>5</td>\n",
              "      <td>20</td>\n",
              "      <td>...</td>\n",
              "      <td>1617777.87</td>\n",
              "      <td>0</td>\n",
              "      <td>0</td>\n",
              "      <td>3448646302</td>\n",
              "      <td>3343835273</td>\n",
              "      <td>2427005282</td>\n",
              "      <td>2314556018</td>\n",
              "      <td>144524011</td>\n",
              "      <td>139310219</td>\n",
              "      <td>NaN</td>\n",
              "    </tr>\n",
              "    <tr>\n",
              "      <th>3</th>\n",
              "      <td>3</td>\n",
              "      <td>4</td>\n",
              "      <td>5</td>\n",
              "      <td>1</td>\n",
              "      <td>NaN</td>\n",
              "      <td>BANCO DE GUAYAQUIL (CORPORACION MULTIBG, FIDEI...</td>\n",
              "      <td>SI</td>\n",
              "      <td>2</td>\n",
              "      <td>0</td>\n",
              "      <td>9</td>\n",
              "      <td>...</td>\n",
              "      <td>86918.43</td>\n",
              "      <td>4785739</td>\n",
              "      <td>5678838</td>\n",
              "      <td>6014463154</td>\n",
              "      <td>5334073117</td>\n",
              "      <td>784042300</td>\n",
              "      <td>791999072</td>\n",
              "      <td>206200661</td>\n",
              "      <td>234359513</td>\n",
              "      <td>NaN</td>\n",
              "    </tr>\n",
              "    <tr>\n",
              "      <th>4</th>\n",
              "      <td>4</td>\n",
              "      <td>5</td>\n",
              "      <td>4</td>\n",
              "      <td>-1</td>\n",
              "      <td>NaN</td>\n",
              "      <td>SCHLUMBERGER DEL ECUADOR (CONSORCIO SHUSHUFIND...</td>\n",
              "      <td>NO</td>\n",
              "      <td>8</td>\n",
              "      <td>0</td>\n",
              "      <td>0</td>\n",
              "      <td>...</td>\n",
              "      <td>237591.28</td>\n",
              "      <td>0</td>\n",
              "      <td>0</td>\n",
              "      <td>3286786210</td>\n",
              "      <td>3616608480</td>\n",
              "      <td>2426480097</td>\n",
              "      <td>2305837270</td>\n",
              "      <td>202204211</td>\n",
              "      <td>152342627</td>\n",
              "      <td>NaN</td>\n",
              "    </tr>\n",
              "  </tbody>\n",
              "</table>\n",
              "<p>5 rows × 41 columns</p>\n",
              "</div>\n",
              "      <button class=\"colab-df-convert\" onclick=\"convertToInteractive('df-43e34ab8-6f89-41b4-b1cc-34fcab1f67be')\"\n",
              "              title=\"Convert this dataframe to an interactive table.\"\n",
              "              style=\"display:none;\">\n",
              "        \n",
              "  <svg xmlns=\"http://www.w3.org/2000/svg\" height=\"24px\"viewBox=\"0 0 24 24\"\n",
              "       width=\"24px\">\n",
              "    <path d=\"M0 0h24v24H0V0z\" fill=\"none\"/>\n",
              "    <path d=\"M18.56 5.44l.94 2.06.94-2.06 2.06-.94-2.06-.94-.94-2.06-.94 2.06-2.06.94zm-11 1L8.5 8.5l.94-2.06 2.06-.94-2.06-.94L8.5 2.5l-.94 2.06-2.06.94zm10 10l.94 2.06.94-2.06 2.06-.94-2.06-.94-.94-2.06-.94 2.06-2.06.94z\"/><path d=\"M17.41 7.96l-1.37-1.37c-.4-.4-.92-.59-1.43-.59-.52 0-1.04.2-1.43.59L10.3 9.45l-7.72 7.72c-.78.78-.78 2.05 0 2.83L4 21.41c.39.39.9.59 1.41.59.51 0 1.02-.2 1.41-.59l7.78-7.78 2.81-2.81c.8-.78.8-2.07 0-2.86zM5.41 20L4 18.59l7.72-7.72 1.47 1.35L5.41 20z\"/>\n",
              "  </svg>\n",
              "      </button>\n",
              "      \n",
              "  <style>\n",
              "    .colab-df-container {\n",
              "      display:flex;\n",
              "      flex-wrap:wrap;\n",
              "      gap: 12px;\n",
              "    }\n",
              "\n",
              "    .colab-df-convert {\n",
              "      background-color: #E8F0FE;\n",
              "      border: none;\n",
              "      border-radius: 50%;\n",
              "      cursor: pointer;\n",
              "      display: none;\n",
              "      fill: #1967D2;\n",
              "      height: 32px;\n",
              "      padding: 0 0 0 0;\n",
              "      width: 32px;\n",
              "    }\n",
              "\n",
              "    .colab-df-convert:hover {\n",
              "      background-color: #E2EBFA;\n",
              "      box-shadow: 0px 1px 2px rgba(60, 64, 67, 0.3), 0px 1px 3px 1px rgba(60, 64, 67, 0.15);\n",
              "      fill: #174EA6;\n",
              "    }\n",
              "\n",
              "    [theme=dark] .colab-df-convert {\n",
              "      background-color: #3B4455;\n",
              "      fill: #D2E3FC;\n",
              "    }\n",
              "\n",
              "    [theme=dark] .colab-df-convert:hover {\n",
              "      background-color: #434B5C;\n",
              "      box-shadow: 0px 1px 3px 1px rgba(0, 0, 0, 0.15);\n",
              "      filter: drop-shadow(0px 1px 2px rgba(0, 0, 0, 0.3));\n",
              "      fill: #FFFFFF;\n",
              "    }\n",
              "  </style>\n",
              "\n",
              "      <script>\n",
              "        const buttonEl =\n",
              "          document.querySelector('#df-43e34ab8-6f89-41b4-b1cc-34fcab1f67be button.colab-df-convert');\n",
              "        buttonEl.style.display =\n",
              "          google.colab.kernel.accessAllowed ? 'block' : 'none';\n",
              "\n",
              "        async function convertToInteractive(key) {\n",
              "          const element = document.querySelector('#df-43e34ab8-6f89-41b4-b1cc-34fcab1f67be');\n",
              "          const dataTable =\n",
              "            await google.colab.kernel.invokeFunction('convertToInteractive',\n",
              "                                                     [key], {});\n",
              "          if (!dataTable) return;\n",
              "\n",
              "          const docLinkHtml = 'Like what you see? Visit the ' +\n",
              "            '<a target=\"_blank\" href=https://colab.research.google.com/notebooks/data_table.ipynb>data table notebook</a>'\n",
              "            + ' to learn more about interactive tables.';\n",
              "          element.innerHTML = '';\n",
              "          dataTable['output_type'] = 'display_data';\n",
              "          await google.colab.output.renderOutput(dataTable, element);\n",
              "          const docLink = document.createElement('div');\n",
              "          docLink.innerHTML = docLinkHtml;\n",
              "          element.appendChild(docLink);\n",
              "        }\n",
              "      </script>\n",
              "    </div>\n",
              "  </div>\n",
              "  "
            ]
          },
          "metadata": {},
          "execution_count": 80
        }
      ]
    },
    {
      "cell_type": "code",
      "source": [
        "print(\"Existen valores nulos: \",df.isnull().values.any())\n",
        "\n",
        "nan_rows = df[df.isnull().any(1)]\n",
        "print(nan_rows)\n",
        "df.columns[df.isnull().any()]\n",
        "datasetCompleto = df.dropna(how='any')\n",
        "\n",
        "print(datasetCompleto.isnull().sum())\n",
        "print(\"--- Existen valores nulos: \",datasetCompleto.isnull().values.any())\n",
        "print(datasetCompleto.isnull().sum().sum())"
      ],
      "metadata": {
        "colab": {
          "base_uri": "https://localhost:8080/"
        },
        "id": "uOGgqMopvXZD",
        "outputId": "52001143-5307-4d5e-8fba-81676c3af83c"
      },
      "execution_count": 61,
      "outputs": [
        {
          "output_type": "stream",
          "name": "stdout",
          "text": [
            "Existen valores nulos:  True\n",
            "       3    4    5   1 Unnamed: 4  \\\n",
            "0      4    5    4  -1        NaN   \n",
            "1      5    6    6   0        NaN   \n",
            "2      6    7    7   0        NaN   \n",
            "3      7    8    9   1        NaN   \n",
            "4      8    9    8  -1        NaN   \n",
            "..   ...  ...  ...  ..        ...   \n",
            "293  297  298  283 -15          X   \n",
            "294  298  299  285 -14        NaN   \n",
            "295  299  300  294  -6          X   \n",
            "296  300  301  301   0        NaN   \n",
            "297  301  302  302   0        NaN   \n",
            "\n",
            "    BANCO DE GUAYAQUIL (CORPORACION MULTIBG, FIDEICOMISO MERCANTIL DE ADMINISTRACION GLM, PROMOQUIL, FIDEICOMISO MERCANTIL DE ADMINISTRACION MELM)  \\\n",
            "0    SCHLUMBERGER DEL ECUADOR (CONSORCIO SHUSHUFIND...                                                                                               \n",
            "1    PRODUBANCO (SERVIPAGOS, PROTRAMITES TRAMITES P...                                                                                               \n",
            "2    OCP ECUADOR (ANDES PETROLEUM, CONSORCIO B-16, ...                                                                                               \n",
            "3          BANCO BOLIVARIANO C.A. (SASETAF, DESINVEST)                                                                                               \n",
            "4    CORPORACIÓN EL ROSADO (MI COMISARIATO, INMOBIL...                                                                                               \n",
            "..                                                 ...                                                                                               \n",
            "293                            PRACTIPOWER (DISTRIBLU)                                                                                               \n",
            "294  COMERCIALIZADORA INTERNACIONAL CIECOPALMA (EXT...                                                                                               \n",
            "295  EXORBAN (EXPORTMARSA, CLUB DEPORTIVO ESPECIALI...                                                                                               \n",
            "296  CONSULTORA TECNAZUL (AZULEC, CATERPREMIER, COM...                                                                                               \n",
            "297                   MMR GROUP (MMRSAL INTERNATIONAL)                                                                                               \n",
            "\n",
            "               SI   2   0  9  ...  86918.43000000001  4785739  5678838  \\\n",
            "0              NO   8   0  0  ...          237591.28        0        0   \n",
            "1    PARCIALMENTE   7   0  0  ...          504808.17  1109933  1369521   \n",
            "2    PARCIALMENTE  12  33  0  ...         2621454.37        0        0   \n",
            "3              SI   1   0  3  ...           17093.67  9817255  7702248   \n",
            "4              SI  15   0  3  ...         1718472.22     2826     7789   \n",
            "..            ...  ..  .. ..  ...                ...      ...      ...   \n",
            "293            SI   0   0  1  ...               0.00        0        0   \n",
            "294            SI   0   0  2  ...            1792.76        0        0   \n",
            "295            SI   0   0  2  ...               0.00        0        0   \n",
            "296            SI   0   0  1  ...               0.00        0        0   \n",
            "297            SI   0   2  0  ...               0.00        0        0   \n",
            "\n",
            "     6014463154  5334073117   784042300   791999072  206200661  234359513  \\\n",
            "0    3286786210  3616608480  2426480097  2305837270  202204211  152342627   \n",
            "1    5677059245  5337382757   554198528   571132620  233528010  299941053   \n",
            "2    2878285000  3158582003  1282070968  1455499361   66287611   78336419   \n",
            "3    4241322569  3828371165   597877876   571285783  193190178  209149340   \n",
            "4    1942145014  1837638581   456932203   476612277   73489379   73480134   \n",
            "..          ...         ...         ...         ...        ...        ...   \n",
            "293     5745528     8628450      610145      732912     342714     772437   \n",
            "294    35588799    38409409    -7100702    -5790622      28675     228358   \n",
            "295     5648737     6120840     1022284     1082467     262281     440767   \n",
            "296    14085320    35019077     9896548    18250761     277990     508853   \n",
            "297    18946604    20350376     3762506     4855582      83176     142652   \n",
            "\n",
            "     Unnamed: 40  \n",
            "0            NaN  \n",
            "1            NaN  \n",
            "2            NaN  \n",
            "3            NaN  \n",
            "4            NaN  \n",
            "..           ...  \n",
            "293          NaN  \n",
            "294          NaN  \n",
            "295          NaN  \n",
            "296          NaN  \n",
            "297          NaN  \n",
            "\n",
            "[298 rows x 41 columns]\n",
            "3                                                                                                                                                 0.0\n",
            "4                                                                                                                                                 0.0\n",
            "5                                                                                                                                                 0.0\n",
            "1                                                                                                                                                 0.0\n",
            "Unnamed: 4                                                                                                                                        0.0\n",
            "BANCO DE GUAYAQUIL (CORPORACION MULTIBG, FIDEICOMISO MERCANTIL DE ADMINISTRACION GLM, PROMOQUIL, FIDEICOMISO MERCANTIL DE ADMINISTRACION MELM)    0.0\n",
            "SI                                                                                                                                                0.0\n",
            "2                                                                                                                                                 0.0\n",
            "0                                                                                                                                                 0.0\n",
            "9                                                                                                                                                 0.0\n",
            "0.1                                                                                                                                               0.0\n",
            "57                                                                                                                                                0.0\n",
            "2.1                                                                                                                                               0.0\n",
            "1.1                                                                                                                                               0.0\n",
            "1.2                                                                                                                                               0.0\n",
            "1.3                                                                                                                                               0.0\n",
            "1.4                                                                                                                                               0.0\n",
            "66                                                                                                                                                0.0\n",
            "102                                                                                                                                               0.0\n",
            "34                                                                                                                                                0.0\n",
            "-68                                                                                                                                               0.0\n",
            "11527263                                                                                                                                          0.0\n",
            "681503379                                                                                                                                         0.0\n",
            "0.01691446198977687                                                                                                                               0.0\n",
            "31755533                                                                                                                                          0.0\n",
            "601613380                                                                                                                                         0.0\n",
            "0.05278395404038388                                                                                                                               0.0\n",
            "0.1327929225909171                                                                                                                                0.0\n",
            "-0.6369998576311096                                                                                                                               0.0\n",
            "-0.03586949205060701                                                                                                                              0.0\n",
            "1399735.47                                                                                                                                        0.0\n",
            "86918.43000000001                                                                                                                                 0.0\n",
            "4785739                                                                                                                                           0.0\n",
            "5678838                                                                                                                                           0.0\n",
            "6014463154                                                                                                                                        0.0\n",
            "5334073117                                                                                                                                        0.0\n",
            "784042300                                                                                                                                         0.0\n",
            "791999072                                                                                                                                         0.0\n",
            "206200661                                                                                                                                         0.0\n",
            "234359513                                                                                                                                         0.0\n",
            "Unnamed: 40                                                                                                                                       0.0\n",
            "dtype: float64\n",
            "--- Existen valores nulos:  False\n",
            "0.0\n"
          ]
        }
      ]
    },
    {
      "cell_type": "code",
      "source": [
        "print(df.shape)\n",
        "print(\"nulos: \",df.isnull().values.any())"
      ],
      "metadata": {
        "colab": {
          "base_uri": "https://localhost:8080/"
        },
        "id": "mFI1-Tk8yZak",
        "outputId": "d21f4897-d5c5-4269-d1cc-25e72ee92cdc"
      },
      "execution_count": 68,
      "outputs": [
        {
          "output_type": "stream",
          "name": "stdout",
          "text": [
            "(298, 41)\n",
            "nulos:  True\n"
          ]
        }
      ]
    },
    {
      "cell_type": "code",
      "source": [
        "columns_names = df.columns.values\n",
        "columns_names"
      ],
      "metadata": {
        "colab": {
          "base_uri": "https://localhost:8080/"
        },
        "id": "oeRUcFAsye7M",
        "outputId": "fe9a9d91-5ec2-445b-aa31-40a242e7d4c2"
      },
      "execution_count": 69,
      "outputs": [
        {
          "output_type": "execute_result",
          "data": {
            "text/plain": [
              "array([3, 4, 5, 1, 'Unnamed: 4',\n",
              "       'BANCO DE GUAYAQUIL (CORPORACION MULTIBG, FIDEICOMISO MERCANTIL DE ADMINISTRACION GLM, PROMOQUIL, FIDEICOMISO MERCANTIL DE ADMINISTRACION MELM)',\n",
              "       'SI', 2, 0, 9, '0.1', 57, '2.1', '1.1', '1.2', '1.3', '1.4', 66,\n",
              "       102, 34, -68, 11527263, 681503379, 0.01691446198977687, 31755533,\n",
              "       601613380, 0.05278395404038388, 0.1327929225909171,\n",
              "       -0.6369998576311096, -0.03586949205060701, 1399735.47,\n",
              "       86918.43000000001, 4785739, 5678838, 6014463154, 5334073117,\n",
              "       784042300, 791999072, 206200661, 234359513, 'Unnamed: 40'],\n",
              "      dtype=object)"
            ]
          },
          "metadata": {},
          "execution_count": 69
        }
      ]
    },
    {
      "cell_type": "code",
      "source": [
        "df.columns = columns_names"
      ],
      "metadata": {
        "id": "oaiB6J6_qP6C"
      },
      "execution_count": 70,
      "outputs": []
    },
    {
      "cell_type": "code",
      "source": [
        "columns_names = ['Ranking Tamaño  2021', 'Ranking Tamaño  2020',\n",
        "       'Variación Ranking Tamaño 2020 - 2021', 'NUEVO GE',\n",
        "       'Nombre Grupo Económico',\n",
        "       'Reporta sus BENEFICIARIOS EFECTIVOS',\n",
        "       'No. de Integrantes domiciliados en PARAÍSOS FISCALES',\n",
        "       'No. de Integrantes y Empresas Offshore relacionadas con el Grupo Económico publicados en PANAMÁ PAPERS',\n",
        "       'Personas Naturales', 'Personas Extranjeras',\n",
        "       'Sociedades Nacionales', 'Sociedades Extranjeras',\n",
        "       'Contribuyentes Especiales',\n",
        "       'Grandes Contribuyentes e Importancia Recaudatoria',\n",
        "       'Instituciones Financieras', 'Medios de Comunicación',\n",
        "       'Total Integrantes e=a+b+c+d', 'Ranking Contribución I.R. 2020',\n",
        "       'Ranking Contribución I.R. 2019',\n",
        "       'Variación Ranking Contribución I.R. 2019-2020',\n",
        "       'Impuesto a la Renta Causado (4) 2020', 'Total Ingresos 2020',\n",
        "       'Contribución   I.R. 2020', 'Impuesto a la Renta Causado (4) 2019',\n",
        "       'Total Ingresos 2019', 'Contribución   I.R. 2019',\n",
        "       'Variación Ingresos', 'Variación Impuesto a la Renta Causado',\n",
        "       'Variación Contribución  I.R. (2020-2019)',\n",
        "       'Impuesto Causado ISD 2020', 'Impuesto Causado ISD 2019',\n",
        "       'Impuesto Causado IAE 2020 (5)', 'Impuesto Causado IAE 2019 (5)',\n",
        "       'Total Activo (6) 2020', 'Total Activo (6) 2019',\n",
        "       'Total Patrimonio (7) 2020', 'Total Patrimonio (7) 2019',\n",
        "       'Total Recaudado (8) 2020', 'Total Recaudado (8) 2019',\n",
        "       'Total Deuda Generada(9)']"
      ],
      "metadata": {
        "id": "X-qtUzvpytv0"
      },
      "execution_count": 65,
      "outputs": []
    },
    {
      "cell_type": "code",
      "source": [
        "df.columns = columns_names"
      ],
      "metadata": {
        "id": "3iulcjR6y1yj"
      },
      "execution_count": 71,
      "outputs": []
    },
    {
      "cell_type": "code",
      "source": [
        "columns_names = df.columns.values\n",
        "columns_names"
      ],
      "metadata": {
        "colab": {
          "base_uri": "https://localhost:8080/"
        },
        "id": "AWkVKve0y49b",
        "outputId": "935035a0-e822-423a-8938-f5c3a86d3964"
      },
      "execution_count": 72,
      "outputs": [
        {
          "output_type": "execute_result",
          "data": {
            "text/plain": [
              "array([3, 4, 5, 1, 'Unnamed: 4',\n",
              "       'BANCO DE GUAYAQUIL (CORPORACION MULTIBG, FIDEICOMISO MERCANTIL DE ADMINISTRACION GLM, PROMOQUIL, FIDEICOMISO MERCANTIL DE ADMINISTRACION MELM)',\n",
              "       'SI', 2, 0, 9, '0.1', 57, '2.1', '1.1', '1.2', '1.3', '1.4', 66,\n",
              "       102, 34, -68, 11527263, 681503379, 0.01691446198977687, 31755533,\n",
              "       601613380, 0.05278395404038388, 0.1327929225909171,\n",
              "       -0.6369998576311096, -0.03586949205060701, 1399735.47,\n",
              "       86918.43000000001, 4785739, 5678838, 6014463154, 5334073117,\n",
              "       784042300, 791999072, 206200661, 234359513, 'Unnamed: 40'],\n",
              "      dtype=object)"
            ]
          },
          "metadata": {},
          "execution_count": 72
        }
      ]
    },
    {
      "cell_type": "markdown",
      "source": [
        "Generar gráfico de barras de solo las empresas que han mejorado y/o empeorado su ranking con respecto al año anterior."
      ],
      "metadata": {
        "id": "wMkqCWKYy9zj"
      }
    },
    {
      "cell_type": "code",
      "source": [
        "print(\"Empresas: \")\n",
        "print(df['Ranking Tamaño  2021'].unique())"
      ],
      "metadata": {
        "colab": {
          "base_uri": "https://localhost:8080/"
        },
        "id": "BY1FuZsuy98j",
        "outputId": "73cdd6b1-aede-4fd8-93ec-eca6b22b37f8"
      },
      "execution_count": 81,
      "outputs": [
        {
          "output_type": "stream",
          "name": "stdout",
          "text": [
            "Empresas: \n",
            "[  1   2   3   4   5   6   7   8   9  10  11  12  13  14  15  16  17  18\n",
            "  19  20  21  22  23  24  25  26  27  28  29  30  31  32  33  34  35  36\n",
            "  37  38  39  40  41  42  43  44  45  46  47  48  49  50  51  52  53  54\n",
            "  55  56  57  58  59  60  61  62  63  64  65  66  67  68  69  70  71  72\n",
            "  73  74  75  76  77  78  79  80  81  82  83  84  85  86  87  88  89  90\n",
            "  91  92  93  94  95  96  97  98  99 100 101 102 103 104 105 106 107 108\n",
            " 109 110 111 112 113 114 115 116 117 118 119 120 121 122 123 124 125 126\n",
            " 127 128 129 130 131 132 133 134 135 136 137 138 139 140 141 142 143 144\n",
            " 145 146 147 148 149 150 151 152 153 154 155 156 157 158 159 160 161 162\n",
            " 163 164 165 166 167 168 169 170 171 172 173 174 175 176 177 178 179 180\n",
            " 181 182 183 184 185 186 187 188 189 190 191 192 193 194 195 196 197 198\n",
            " 199 200 201 202 203 204 205 206 207 208 209 210 211 212 213 214 215 216\n",
            " 217 218 219 220 221 222 223 224 225 226 227 228 229 230 231 232 233 234\n",
            " 235 236 237 238 239 240 241 242 243 244 245 246 247 248 249 250 251 252\n",
            " 253 254 255 256 257 258 259 260 261 262 263 264 265 266 267 268 269 270\n",
            " 271 272 273 274 275 276 277 278 279 280 281 282 283 284 285 286 287 288\n",
            " 289 290 291 292 293 294 295 296 297 298 299 300 301 302]\n"
          ]
        }
      ]
    },
    {
      "cell_type": "code",
      "source": [
        "mejor = df.loc[(df['Variación Ranking Tamaño 2020 - 2021'] < 0)].count()[0]\n",
        "peor = df.loc[(df['Variación Ranking Tamaño 2020 - 2021'] > 0)].count()[0]\n",
        "\n",
        "plt.figure()\n",
        "nombre = ['mejorar', 'empeorar']\n",
        "datos = [mejor, peor]\n",
        "print(\"\\n\")\n",
        "plt.figure()\n",
        "barras = plt.bar(nombre, datos)\n"
      ],
      "metadata": {
        "colab": {
          "base_uri": "https://localhost:8080/",
          "height": 317
        },
        "id": "fy7FL9n9tjRS",
        "outputId": "3d458a57-be8a-4c55-9314-22eee36ac02a"
      },
      "execution_count": 93,
      "outputs": [
        {
          "output_type": "stream",
          "name": "stdout",
          "text": [
            "\n",
            "\n"
          ]
        },
        {
          "output_type": "display_data",
          "data": {
            "text/plain": [
              "<Figure size 432x288 with 0 Axes>"
            ]
          },
          "metadata": {}
        },
        {
          "output_type": "display_data",
          "data": {
            "text/plain": [
              "<Figure size 432x288 with 1 Axes>"
            ],
            "image/png": "[encoded data removed]"
          },
          "metadata": {
            "needs_background": "light"
          }
        }
      ]
    },
    {
      "cell_type": "markdown",
      "source": [
        "Generar gráfico de las empresas que tienen panamá papers."
      ],
      "metadata": {
        "id": "f9bIKi5VuiZ6"
      }
    },
    {
      "cell_type": "code",
      "source": [
        "tienePP = df.loc[(df['No. de Integrantes y Empresas Offshore relacionadas con el Grupo Económico publicados en PANAMÁ PAPERS'] > 0)].count()[0]\n",
        "notienePP = df.loc[(df['No. de Integrantes y Empresas Offshore relacionadas con el Grupo Económico publicados en PANAMÁ PAPERS'] <= 0)].count()[0] \n",
        "print(\"Con PP: \", tienePP)\n",
        "print(\"Sin PP: \", notienePP)\n",
        "\n",
        "plt.figure()\n",
        "nombre = ['CON PP', 'SIN PP']\n",
        "datos = [tienePP, notienePP]\n",
        "print(\"\\n\")\n",
        "plt.figure()\n",
        "barras = plt.bar(nombre, datos)\n"
      ],
      "metadata": {
        "colab": {
          "base_uri": "https://localhost:8080/",
          "height": 352
        },
        "id": "d9pZQ-qtvQW0",
        "outputId": "bb26286b-b2bd-4815-9480-a2ec05ff8a17"
      },
      "execution_count": 100,
      "outputs": [
        {
          "output_type": "stream",
          "name": "stdout",
          "text": [
            "Con PP:  58\n",
            "Sin PP:  244\n",
            "\n",
            "\n"
          ]
        },
        {
          "output_type": "display_data",
          "data": {
            "text/plain": [
              "<Figure size 432x288 with 0 Axes>"
            ]
          },
          "metadata": {}
        },
        {
          "output_type": "display_data",
          "data": {
            "text/plain": [
              "<Figure size 432x288 with 1 Axes>"
            ],
            "image/png": "[encoded data removed]"
          },
          "metadata": {
            "needs_background": "light"
          }
        }
      ]
    },
    {
      "cell_type": "markdown",
      "source": [
        "Generar un pie de las empresas que más aportan a la economía del país"
      ],
      "metadata": {
        "id": "0DvorsNbwtAy"
      }
    },
    {
      "cell_type": "code",
      "source": [
        "dfcontri = df[[\"Nombre Grupo Económico\",\"Variación Ranking Contribución I.R. 2019-2020\"]]\n"
      ],
      "metadata": {
        "id": "EMzFH-lR_vGN"
      },
      "execution_count": 162,
      "outputs": []
    },
    {
      "cell_type": "code",
      "source": [
        "dfcontri ['contribucion'] = dfcontri[['Variación Ranking Contribución I.R. 2019-2020']].rank()\n",
        "dfmayoraport =dfcontri.nlargest(7, ['contribucion']) \n",
        "dfmayoraport\n",
        "nombre = dfmayoraport['Nombre Grupo Económico'].tolist()\n",
        "valor = dfmayoraport['Variación Ranking Contribución I.R. 2019-2020'].tolist()\n",
        "\n",
        "plt.pie(valor, labels=nombre, autopct='%.2f %%')\n",
        "plt.title('Empresas que más aportan a la economía del país')\n",
        "plt.show()\n"
      ],
      "metadata": {
        "colab": {
          "base_uri": "https://localhost:8080/",
          "height": 368
        },
        "id": "hDCW0WJJ_4eN",
        "outputId": "aad89721-d307-43e4-d2a4-440c5e09d951"
      },
      "execution_count": 166,
      "outputs": [
        {
          "output_type": "stream",
          "name": "stderr",
          "text": [
            "/usr/local/lib/python3.7/dist-packages/ipykernel_launcher.py:1: SettingWithCopyWarning: \n",
            "A value is trying to be set on a copy of a slice from a DataFrame.\n",
            "Try using .loc[row_indexer,col_indexer] = value instead\n",
            "\n",
            "See the caveats in the documentation: https://pandas.pydata.org/pandas-docs/stable/user_guide/indexing.html#returning-a-view-versus-a-copy\n",
            "  \"\"\"Entry point for launching an IPython kernel.\n"
          ]
        },
        {
          "output_type": "display_data",
          "data": {
            "text/plain": [
              "<Figure size 432x288 with 1 Axes>"
            ],
            "image/png": "[encoded data removed]"
          },
          "metadata": {}
        }
      ]
    },
    {
      "cell_type": "markdown",
      "source": [
        "Obtener las empresas que mayor patrimonio tienen (10)."
      ],
      "metadata": {
        "id": "FBB0Z0RB4RC7"
      }
    },
    {
      "cell_type": "code",
      "source": [
        "topEmp = df[[\"Nombre Grupo Económico\",\"Total Patrimonio (7) 2020\", 'Total Patrimonio (7) 2019']]\n",
        "topEmp['sum'] = topEmp.loc[topEmp['Total Patrimonio (7) 2020'] >= 0,['Total Patrimonio (7) 2020','Total Patrimonio (7) 2019']].sum(axis=1)\n",
        "topEmp['sum'] = topEmp['sum'].div(2)\n",
        "topEmp\n",
        "\n",
        "topEmp['default_rank'] = topEmp['sum'].rank()\n",
        "topEmp\n",
        "\n",
        "print(\"Importancia: \")\n",
        "topEmp.nlargest(10, ['default_rank']) "
      ],
      "metadata": {
        "colab": {
          "base_uri": "https://localhost:8080/",
          "height": 693
        },
        "id": "NbhIQ_QwAn_9",
        "outputId": "9aa35c82-8414-4e12-f36b-c2dcf558f146"
      },
      "execution_count": 171,
      "outputs": [
        {
          "output_type": "stream",
          "name": "stdout",
          "text": [
            "Importancia: \n"
          ]
        },
        {
          "output_type": "stream",
          "name": "stderr",
          "text": [
            "/usr/local/lib/python3.7/dist-packages/ipykernel_launcher.py:2: SettingWithCopyWarning: \n",
            "A value is trying to be set on a copy of a slice from a DataFrame.\n",
            "Try using .loc[row_indexer,col_indexer] = value instead\n",
            "\n",
            "See the caveats in the documentation: https://pandas.pydata.org/pandas-docs/stable/user_guide/indexing.html#returning-a-view-versus-a-copy\n",
            "  \n",
            "/usr/local/lib/python3.7/dist-packages/ipykernel_launcher.py:3: SettingWithCopyWarning: \n",
            "A value is trying to be set on a copy of a slice from a DataFrame.\n",
            "Try using .loc[row_indexer,col_indexer] = value instead\n",
            "\n",
            "See the caveats in the documentation: https://pandas.pydata.org/pandas-docs/stable/user_guide/indexing.html#returning-a-view-versus-a-copy\n",
            "  This is separate from the ipykernel package so we can avoid doing imports until\n",
            "/usr/local/lib/python3.7/dist-packages/ipykernel_launcher.py:6: SettingWithCopyWarning: \n",
            "A value is trying to be set on a copy of a slice from a DataFrame.\n",
            "Try using .loc[row_indexer,col_indexer] = value instead\n",
            "\n",
            "See the caveats in the documentation: https://pandas.pydata.org/pandas-docs/stable/user_guide/indexing.html#returning-a-view-versus-a-copy\n",
            "  \n"
          ]
        },
        {
          "output_type": "execute_result",
          "data": {
            "text/plain": [
              "                               Nombre Grupo Económico  \\\n",
              "0   BANCO PICHINCHA (DINERS CLUB DEL ECUADOR, BANC...   \n",
              "2   CORPORACIÓN FAVORITA (COMERCIAL KIWY, SUKASA, ...   \n",
              "4   SCHLUMBERGER DEL ECUADOR (CONSORCIO SHUSHUFIND...   \n",
              "1   ALMACENES JUAN ELJURI (BANCO DEL AUSTRO, AEKIA...   \n",
              "6   OCP ECUADOR (ANDES PETROLEUM, CONSORCIO B-16, ...   \n",
              "13  INDUSTRIAL PESQUERA SANTA PRISCILA (MANESIL, P...   \n",
              "3   BANCO DE GUAYAQUIL (CORPORACION MULTIBG, FIDEI...   \n",
              "20  CONSTRUCTORA HIDALGO E HIDALGO (CONCEGUA, CONO...   \n",
              "35  HERDOIZA CRESPO CONSTRUCCIONES (CANEYBI, PANAV...   \n",
              "14  KFC (INT FOOD SERVICES CORP, AVÍCOLA SAN ISIDR...   \n",
              "\n",
              "    Total Patrimonio (7) 2020  Total Patrimonio (7) 2019           sum  \\\n",
              "0                  3688293052                 3699748891  3.694021e+09   \n",
              "2                  2427005282                 2314556018  2.370781e+09   \n",
              "4                  2426480097                 2305837270  2.366159e+09   \n",
              "1                  1878733441                 1955377497  1.917055e+09   \n",
              "6                  1282070968                 1455499361  1.368785e+09   \n",
              "13                  893743494                  825092502  8.594180e+08   \n",
              "3                   784042300                  791999072  7.880207e+08   \n",
              "20                  815559783                  733693093  7.746264e+08   \n",
              "35                  670485963                  650809388  6.606477e+08   \n",
              "14                  640964656                  657609211  6.492869e+08   \n",
              "\n",
              "    default_rank  \n",
              "0          298.0  \n",
              "2          297.0  \n",
              "4          296.0  \n",
              "1          295.0  \n",
              "6          294.0  \n",
              "13         293.0  \n",
              "3          292.0  \n",
              "20         291.0  \n",
              "35         290.0  \n",
              "14         289.0  "
            ],
            "text/html": [
              "\n",
              "  <div id=\"df-fe614c9b-d23e-4de8-b36b-81ff2ffcb4f5\">\n",
              "    <div class=\"colab-df-container\">\n",
              "      <div>\n",
              "<style scoped>\n",
              "    .dataframe tbody tr th:only-of-type {\n",
              "        vertical-align: middle;\n",
              "    }\n",
              "\n",
              "    .dataframe tbody tr th {\n",
              "        vertical-align: top;\n",
              "    }\n",
              "\n",
              "    .dataframe thead th {\n",
              "        text-align: right;\n",
              "    }\n",
              "</style>\n",
              "<table border=\"1\" class=\"dataframe\">\n",
              "  <thead>\n",
              "    <tr style=\"text-align: right;\">\n",
              "      <th></th>\n",
              "      <th>Nombre Grupo Económico</th>\n",
              "      <th>Total Patrimonio (7) 2020</th>\n",
              "      <th>Total Patrimonio (7) 2019</th>\n",
              "      <th>sum</th>\n",
              "      <th>default_rank</th>\n",
              "    </tr>\n",
              "  </thead>\n",
              "  <tbody>\n",
              "    <tr>\n",
              "      <th>0</th>\n",
              "      <td>BANCO PICHINCHA (DINERS CLUB DEL ECUADOR, BANC...</td>\n",
              "      <td>3688293052</td>\n",
              "      <td>3699748891</td>\n",
              "      <td>3.694021e+09</td>\n",
              "      <td>298.0</td>\n",
              "    </tr>\n",
              "    <tr>\n",
              "      <th>2</th>\n",
              "      <td>CORPORACIÓN FAVORITA (COMERCIAL KIWY, SUKASA, ...</td>\n",
              "      <td>2427005282</td>\n",
              "      <td>2314556018</td>\n",
              "      <td>2.370781e+09</td>\n",
              "      <td>297.0</td>\n",
              "    </tr>\n",
              "    <tr>\n",
              "      <th>4</th>\n",
              "      <td>SCHLUMBERGER DEL ECUADOR (CONSORCIO SHUSHUFIND...</td>\n",
              "      <td>2426480097</td>\n",
              "      <td>2305837270</td>\n",
              "      <td>2.366159e+09</td>\n",
              "      <td>296.0</td>\n",
              "    </tr>\n",
              "    <tr>\n",
              "      <th>1</th>\n",
              "      <td>ALMACENES JUAN ELJURI (BANCO DEL AUSTRO, AEKIA...</td>\n",
              "      <td>1878733441</td>\n",
              "      <td>1955377497</td>\n",
              "      <td>1.917055e+09</td>\n",
              "      <td>295.0</td>\n",
              "    </tr>\n",
              "    <tr>\n",
              "      <th>6</th>\n",
              "      <td>OCP ECUADOR (ANDES PETROLEUM, CONSORCIO B-16, ...</td>\n",
              "      <td>1282070968</td>\n",
              "      <td>1455499361</td>\n",
              "      <td>1.368785e+09</td>\n",
              "      <td>294.0</td>\n",
              "    </tr>\n",
              "    <tr>\n",
              "      <th>13</th>\n",
              "      <td>INDUSTRIAL PESQUERA SANTA PRISCILA (MANESIL, P...</td>\n",
              "      <td>893743494</td>\n",
              "      <td>825092502</td>\n",
              "      <td>8.594180e+08</td>\n",
              "      <td>293.0</td>\n",
              "    </tr>\n",
              "    <tr>\n",
              "      <th>3</th>\n",
              "      <td>BANCO DE GUAYAQUIL (CORPORACION MULTIBG, FIDEI...</td>\n",
              "      <td>784042300</td>\n",
              "      <td>791999072</td>\n",
              "      <td>7.880207e+08</td>\n",
              "      <td>292.0</td>\n",
              "    </tr>\n",
              "    <tr>\n",
              "      <th>20</th>\n",
              "      <td>CONSTRUCTORA HIDALGO E HIDALGO (CONCEGUA, CONO...</td>\n",
              "      <td>815559783</td>\n",
              "      <td>733693093</td>\n",
              "      <td>7.746264e+08</td>\n",
              "      <td>291.0</td>\n",
              "    </tr>\n",
              "    <tr>\n",
              "      <th>35</th>\n",
              "      <td>HERDOIZA CRESPO CONSTRUCCIONES (CANEYBI, PANAV...</td>\n",
              "      <td>670485963</td>\n",
              "      <td>650809388</td>\n",
              "      <td>6.606477e+08</td>\n",
              "      <td>290.0</td>\n",
              "    </tr>\n",
              "    <tr>\n",
              "      <th>14</th>\n",
              "      <td>KFC (INT FOOD SERVICES CORP, AVÍCOLA SAN ISIDR...</td>\n",
              "      <td>640964656</td>\n",
              "      <td>657609211</td>\n",
              "      <td>6.492869e+08</td>\n",
              "      <td>289.0</td>\n",
              "    </tr>\n",
              "  </tbody>\n",
              "</table>\n",
              "</div>\n",
              "      <button class=\"colab-df-convert\" onclick=\"convertToInteractive('df-fe614c9b-d23e-4de8-b36b-81ff2ffcb4f5')\"\n",
              "              title=\"Convert this dataframe to an interactive table.\"\n",
              "              style=\"display:none;\">\n",
              "        \n",
              "  <svg xmlns=\"http://www.w3.org/2000/svg\" height=\"24px\"viewBox=\"0 0 24 24\"\n",
              "       width=\"24px\">\n",
              "    <path d=\"M0 0h24v24H0V0z\" fill=\"none\"/>\n",
              "    <path d=\"M18.56 5.44l.94 2.06.94-2.06 2.06-.94-2.06-.94-.94-2.06-.94 2.06-2.06.94zm-11 1L8.5 8.5l.94-2.06 2.06-.94-2.06-.94L8.5 2.5l-.94 2.06-2.06.94zm10 10l.94 2.06.94-2.06 2.06-.94-2.06-.94-.94-2.06-.94 2.06-2.06.94z\"/><path d=\"M17.41 7.96l-1.37-1.37c-.4-.4-.92-.59-1.43-.59-.52 0-1.04.2-1.43.59L10.3 9.45l-7.72 7.72c-.78.78-.78 2.05 0 2.83L4 21.41c.39.39.9.59 1.41.59.51 0 1.02-.2 1.41-.59l7.78-7.78 2.81-2.81c.8-.78.8-2.07 0-2.86zM5.41 20L4 18.59l7.72-7.72 1.47 1.35L5.41 20z\"/>\n",
              "  </svg>\n",
              "      </button>\n",
              "      \n",
              "  <style>\n",
              "    .colab-df-container {\n",
              "      display:flex;\n",
              "      flex-wrap:wrap;\n",
              "      gap: 12px;\n",
              "    }\n",
              "\n",
              "    .colab-df-convert {\n",
              "      background-color: #E8F0FE;\n",
              "      border: none;\n",
              "      border-radius: 50%;\n",
              "      cursor: pointer;\n",
              "      display: none;\n",
              "      fill: #1967D2;\n",
              "      height: 32px;\n",
              "      padding: 0 0 0 0;\n",
              "      width: 32px;\n",
              "    }\n",
              "\n",
              "    .colab-df-convert:hover {\n",
              "      background-color: #E2EBFA;\n",
              "      box-shadow: 0px 1px 2px rgba(60, 64, 67, 0.3), 0px 1px 3px 1px rgba(60, 64, 67, 0.15);\n",
              "      fill: #174EA6;\n",
              "    }\n",
              "\n",
              "    [theme=dark] .colab-df-convert {\n",
              "      background-color: #3B4455;\n",
              "      fill: #D2E3FC;\n",
              "    }\n",
              "\n",
              "    [theme=dark] .colab-df-convert:hover {\n",
              "      background-color: #434B5C;\n",
              "      box-shadow: 0px 1px 3px 1px rgba(0, 0, 0, 0.15);\n",
              "      filter: drop-shadow(0px 1px 2px rgba(0, 0, 0, 0.3));\n",
              "      fill: #FFFFFF;\n",
              "    }\n",
              "  </style>\n",
              "\n",
              "      <script>\n",
              "        const buttonEl =\n",
              "          document.querySelector('#df-fe614c9b-d23e-4de8-b36b-81ff2ffcb4f5 button.colab-df-convert');\n",
              "        buttonEl.style.display =\n",
              "          google.colab.kernel.accessAllowed ? 'block' : 'none';\n",
              "\n",
              "        async function convertToInteractive(key) {\n",
              "          const element = document.querySelector('#df-fe614c9b-d23e-4de8-b36b-81ff2ffcb4f5');\n",
              "          const dataTable =\n",
              "            await google.colab.kernel.invokeFunction('convertToInteractive',\n",
              "                                                     [key], {});\n",
              "          if (!dataTable) return;\n",
              "\n",
              "          const docLinkHtml = 'Like what you see? Visit the ' +\n",
              "            '<a target=\"_blank\" href=https://colab.research.google.com/notebooks/data_table.ipynb>data table notebook</a>'\n",
              "            + ' to learn more about interactive tables.';\n",
              "          element.innerHTML = '';\n",
              "          dataTable['output_type'] = 'display_data';\n",
              "          await google.colab.output.renderOutput(dataTable, element);\n",
              "          const docLink = document.createElement('div');\n",
              "          docLink.innerHTML = docLinkHtml;\n",
              "          element.appendChild(docLink);\n",
              "        }\n",
              "      </script>\n",
              "    </div>\n",
              "  </div>\n",
              "  "
            ]
          },
          "metadata": {},
          "execution_count": 171
        }
      ]
    },
    {
      "cell_type": "markdown",
      "source": [
        "Generar un análisis y conclusiones de los datos y graficas obtenidas."
      ],
      "metadata": {
        "id": "oDGqhDAB8OHM"
      }
    },
    {
      "cell_type": "markdown",
      "source": [
        "1. Gráfica 1 \n",
        "\n",
        "La diferencia existente entre las empresas que mejorar y empeoraron son de 40. Aumentando el número de empresas que empeoraron el periodo de 2020 2021 y las que se mantuvieron en el raking de mejora fueron un total de 120 empresas.\n",
        "2. Gráfica 2\n",
        "\n",
        "El gráfico presentado representa las empresas que cuentan con panamá pepers siendo un total de 58 mientras aquellas que no cuentan se presentan con mayor frencuencia siendo 244 empresas en total.\n",
        "\n",
        "3. Grafica 3 \n",
        "\n",
        "En la gráfica 3 se observa que la comercializadora internacional CIECOPALMA es la empresa con tiene mayor aportación a la economía siendo casi el doble de aportación en comparación entre las demás empresas. Se observa que las empresas siguientes están en un rango de 13 a 11 % de aportación para la economía del país. \n",
        "\n",
        "4. Gráfica 4 \n",
        "\n",
        "Las empresas con mayor patrimonio son banco del Pichincha, posterior a ellos la corporación favorita que cuenta con comercial kiwi, sukasa, etc y schlumberger del Ecuador, entre otras. Por lo que están empresas tienen mayor concentración en la seguridad de sus datos y sus activos\n"
      ],
      "metadata": {
        "id": "Z-M-hiYo8RcF"
      }
    },
    {
      "cell_type": "markdown",
      "source": [
        "Recomendación \n",
        "\n",
        "1. En cuanto a la segunda grafica en referencia a las empresas que tienen Panamá Papers es necesario realizar un estudio de cuáles son las 58 empresas que son integrantes de empresas offshore relacionadas y cuáles son las consecuencias que tuvieron las empresas mencionadas referentes al patrimonio que presentaron en el país\n",
        "\n"
      ],
      "metadata": {
        "id": "024n9ay6DbFo"
      }
    }
  ]
}