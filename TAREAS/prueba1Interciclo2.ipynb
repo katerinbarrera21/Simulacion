{
  "nbformat": 4,
  "nbformat_minor": 0,
  "metadata": {
    "colab": {
      "name": "prueba1Interciclo2.ipynb",
      "provenance": [],
      "authorship_tag": "ABX9TyMOrrQuhHpwY8PXJ7HoBwSr",
      "include_colab_link": true
    },
    "kernelspec": {
      "name": "python3",
      "display_name": "Python 3"
    },
    "language_info": {
      "name": "python"
    }
  },
  "cells": [
    {
      "cell_type": "markdown",
      "metadata": {
        "id": "view-in-github",
        "colab_type": "text"
      },
      "source": [
        "<a href=\"https://colab.research.google.com/github/katerinbarrera21/Simulacion/blob/main/TAREAS/prueba1Interciclo2.ipynb\" target=\"_parent\"><img src=\"https://colab.research.google.com/assets/colab-badge.svg\" alt=\"Open In Colab\"/></a>"
      ]
    },
    {
      "cell_type": "markdown",
      "source": [
        "MÉTODO DE LA TRANSFORMADA INVERSA\n",
        "PRUEBA 3 – TEORICO/PRACTICO\n",
        "GENERACIÓN DE VARIABLES ALEATORIAS -Transformada inversa\n",
        "Discretos\n",
        "La variabilidad de eventos y actividades se presentan a través de funciones de densidad para fenómenos continuos, y mediante distribuciones de probabilidad para fenómenos de tipo discreto. La simulación de estos eventos o actividades se realiza con la ayuda de la generación de variables aleatorias.\n",
        "\n",
        "Continuos\n",
        "Por otro lado, se puede utilizar empleando funciones matemáticas, A continuación, se incluyen algunas distribuciones que se pueden simular fácilmente mediante el método de inversión. Se adjunta una forma simplificada del método que tiene por objeto evitar cálculos."
      ],
      "metadata": {
        "id": "SbPIfBfzbFqX"
      }
    },
    {
      "cell_type": "markdown",
      "source": [
        "Enunciado:\n",
        "Escoger algún tipo de función de trasformación inversa y ponerlo en práctica utilizando Python.\n",
        "\n",
        "Problema\n",
        "Simulación\n",
        "Graficas/Resultados\n",
        "Se distribuye las funciones en base al orden de lista, con 100 números de ejemplo.\n",
        "\n",
        "1. Problema\n",
        "El problema del faro\n",
        "Un faro está situado a una distancia perpendicular γ de una orilla recta infinita y a una distancia X0 a lo largo de la orilla (ver Figura 1).\n",
        "\n",
        "El faro envía pulsos de luz en ángulos aleatorios uniformemente distribuidos de π/2 a –π/2, donde θ= 0 es la línea perpendicular a la orilla.\n",
        "\n",
        "Sea 'X' una variable aleatoria que da la distancia a lo largo de la orilla medida desde el punto cero de la orilla. Entonces 'X' tiene una distribución de probabilidad de Cauchy dada por:\n",
        "\n",
        "$$f(x,x_{0},\\gamma) = \\frac{1}{\\pi} \\times  \\frac{\\gamma}{(x-x_{0})^{2}+ \\gamma^{2}}$$\n"
      ],
      "metadata": {
        "id": "DQQbl46XbSwO"
      }
    },
    {
      "cell_type": "markdown",
      "source": [
        "### Resolución del ejericio\n",
        "#### Datos del probrema: \n",
        "$$\n",
        "\\begin{table}[]\n",
        "\\begin{tabular}{lll}\n",
        "\\hline\n",
        "X & Gamma & Cantidad Aleatorios \\\\ \\hline\n",
        "0 & 1     & 100                 \\\\\n",
        "  &       &                     \\\\\n",
        "  &       &                     \\\\ \\hline\n",
        "\\end{tabular}\n",
        "\\end{table}\n",
        "$$\n",
        "#### Simplificacion de formula: "
      ],
      "metadata": {
        "id": "dK2TsMG9bdqE"
      }
    },
    {
      "cell_type": "code",
      "source": [
        "from scipy.stats import cauchy\n",
        "import matplotlib.pyplot as plt"
      ],
      "metadata": {
        "id": "pWsw26SKpKfY"
      },
      "execution_count": null,
      "outputs": []
    },
    {
      "cell_type": "code",
      "source": [
        "#Librerías\n",
        "import math\n",
        "import random\n",
        "import numpy as np\n",
        "import matplotlib.pyplot as plt\n",
        "from sklearn.preprocessing import MinMaxScaler"
      ],
      "metadata": {
        "id": "LAXuFs8GtMxa"
      },
      "execution_count": null,
      "outputs": []
    },
    {
      "cell_type": "code",
      "source": [
        "#Random de Python semilla (11052022)\n",
        "\n",
        "def random_python(semilla=11052022, iter=100):\n",
        "  lista_num = []\n",
        "  random.seed(semilla)\n",
        "  [lista_num.append(random.random())for i in range(iter)]\n",
        "  return lista_num"
      ],
      "metadata": {
        "id": "BoUV7NL1poW5"
      },
      "execution_count": null,
      "outputs": []
    },
    {
      "cell_type": "code",
      "source": [
        "r= random_python(semilla=11052022, iter=100)\n",
        "print(r)"
      ],
      "metadata": {
        "colab": {
          "base_uri": "https://localhost:8080/"
        },
        "id": "MbRwAfo0tYQ2",
        "outputId": "c4a4b4e8-7859-47c1-e1c0-6d5f9570407d"
      },
      "execution_count": null,
      "outputs": [
        {
          "output_type": "stream",
          "name": "stdout",
          "text": [
            "[0.39122091339712006, 0.08673940245642964, 0.9233776991044218, 0.5643281259214213, 0.5018754578724773, 0.6092906311578306, 0.7944410154604006, 0.4745506456495402, 0.3496767363331855, 0.08044631797968471, 0.6263578731542199, 0.2036014039706825, 0.32266209276724567, 0.1789720571675194, 0.51299029248829, 0.7770010208223913, 0.5449750015006763, 0.6965377945580097, 0.17325150202955186, 0.9000269906696816, 0.7996854776854797, 0.35322968565101953, 0.6711727475466924, 0.28345737390743064, 0.37350518006964006, 0.37916716408773543, 0.17048123118844705, 0.823379948568777, 0.22300266321497408, 0.051569135814649614, 0.1922950198508785, 0.8634191905130083, 0.5439027360115081, 0.12556216958312505, 0.34124337838965746, 0.6811002910449016, 0.07304203459633685, 0.12499764479557629, 0.2036691179102461, 0.5579574657844889, 0.7421399105045708, 0.5911979676257648, 0.985890474077214, 0.36352070742615483, 0.8983386409438613, 0.045274687387145685, 0.010854410020205485, 0.10747868006965788, 0.7310662267223154, 0.6789110128701332, 0.4681284220423234, 0.7487069922157717, 0.04797854000306567, 0.24710709969259748, 0.04930411236665988, 0.0020391251798350662, 0.07593976703716421, 0.28676974817745593, 0.0046998045473188865, 0.994987409240566, 0.9826228155176063, 0.6053241326585376, 0.5849806144858605, 0.22958414513776948, 0.10777536071052607, 0.5808351957143609, 0.572388670521242, 0.008221646874923993, 0.6896864689831648, 0.12846169495459336, 0.2535791939191787, 0.5478308529147088, 0.27120576132569874, 0.7256050877837473, 0.010751622315348097, 0.9426507923902242, 0.715282633312101, 0.5199730077235968, 0.17428944191844298, 0.8915547498465177, 0.24393711031568588, 0.018682015068336, 0.8427798991994951, 0.015499748889723719, 0.7895388047965864, 0.5450205028827372, 0.2964689443835594, 0.577139092833342, 0.3904078855024612, 0.8461885527273011, 0.2598106883020571, 0.3421468366012045, 0.8909448186747102, 0.16447232820424518, 0.20528958200149916, 0.9877596907709568, 0.27006525861806896, 0.5219510602287093, 0.5592011764902934, 0.5556146311555469]\n"
          ]
        }
      ]
    },
    {
      "cell_type": "code",
      "source": [
        "resultados=[]\n",
        "for u in  r:\n",
        "  result=math.tan(math.pi*(u-(1/2)))\n",
        "  resultados.append(result)\n",
        "\n",
        "scaler = MinMaxScaler(feature_range=(0,1))\n",
        "normalizelist = scaler.fit_transform(np.array(resultados).reshape(-1,1))\n",
        "\n",
        "fig, ax = plt.subplots(1, 1)\n",
        "x = np.linspace(cauchy.ppf(0.01),\n",
        "                cauchy.ppf(0.99), 100)\n",
        "ax.hist(normalizelist, density=True,  alpha=0.5, bins=10)\n",
        "ax.legend(loc='best', frameon=False)\n",
        "plt.show()"
      ],
      "metadata": {
        "colab": {
          "base_uri": "https://localhost:8080/",
          "height": 282
        },
        "id": "Q9CFaVbdBVql",
        "outputId": "d92c1b86-4133-4128-f121-29eb3c55653d"
      },
      "execution_count": null,
      "outputs": [
        {
          "output_type": "stream",
          "name": "stderr",
          "text": [
            "No handles with labels found to put in legend.\n"
          ]
        },
        {
          "output_type": "display_data",
          "data": {
            "text/plain": [
              "<Figure size 432x288 with 1 Axes>"
            ],
            "image/png": "[encoded data removed]"
          },
          "metadata": {
            "needs_background": "light"
          }
        }
      ]
    },
    {
      "cell_type": "code",
      "source": [
        "np.random.seed(2022)"
      ],
      "metadata": {
        "id": "VkA2xa8HAE0O"
      },
      "execution_count": null,
      "outputs": []
    },
    {
      "cell_type": "code",
      "source": [
        "#tranformada inversa C.\n",
        "fig, ax = plt.subplots(1, 1)\n",
        "r = cauchy.rvs(size=100, random_state=20)\n",
        "scaler = MinMaxScaler(feature_range=(0,1))\n",
        "normalizelist = scaler.fit_transform(np.array(r).reshape(-1,1))\n",
        "\n",
        "ax.hist(normalizelist, density=True, histtype='stepfilled', alpha=0.2)\n",
        "ax.legend(loc='best', frameon=False)\n",
        "plt.show()"
      ],
      "metadata": {
        "colab": {
          "base_uri": "https://localhost:8080/",
          "height": 282
        },
        "id": "WYwgPg7Mtwb5",
        "outputId": "1309b897-8b91-4b93-8b12-46673bce6f4c"
      },
      "execution_count": null,
      "outputs": [
        {
          "output_type": "stream",
          "name": "stderr",
          "text": [
            "No handles with labels found to put in legend.\n"
          ]
        },
        {
          "output_type": "display_data",
          "data": {
            "text/plain": [
              "<Figure size 432x288 with 1 Axes>"
            ],
            "image/png": "[encoded data removed]"
          },
          "metadata": {
            "needs_background": "light"
          }
        }
      ]
    }
  ]
}