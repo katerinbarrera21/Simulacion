{
  "nbformat": 4,
  "nbformat_minor": 0,
  "metadata": {
    "colab": {
      "name": "TAREA1dados.ipynb",
      "provenance": [],
      "collapsed_sections": [],
      "authorship_tag": "ABX9TyM59J2XTxCbjxxzCsN7J8Au",
      "include_colab_link": true
    },
    "kernelspec": {
      "name": "python3",
      "display_name": "Python 3"
    },
    "language_info": {
      "name": "python"
    }
  },
  "cells": [
    {
      "cell_type": "markdown",
      "metadata": {
        "id": "view-in-github",
        "colab_type": "text"
      },
      "source": [
        "<a href=\"https://colab.research.google.com/github/katerinbarrera21/Simulacion/blob/main/TAREAS/TAREA1dados.ipynb\" target=\"_parent\"><img src=\"https://colab.research.google.com/assets/colab-badge.svg\" alt=\"Open In Colab\"/></a>"
      ]
    },
    {
      "cell_type": "markdown",
      "source": [
        "**TAREA 1**"
      ],
      "metadata": {
        "id": "bigqBzzglHts"
      }
    },
    {
      "cell_type": "code",
      "execution_count": 1,
      "metadata": {
        "colab": {
          "base_uri": "https://localhost:8080/",
          "height": 300
        },
        "id": "5Pj0KDntk3AR",
        "outputId": "75094009-5300-4bed-fe35-54a7fc0f8fc5"
      },
      "outputs": [
        {
          "output_type": "stream",
          "name": "stdout",
          "text": [
            "[3, 5, 9, 11, 5, 6, 4, 7, 10, 4]\n",
            "{2: 0, 3: 1, 4: 2, 5: 2, 6: 1, 7: 1, 8: 0, 9: 1, 10: 1, 11: 1, 12: 0}\n"
          ]
        },
        {
          "output_type": "display_data",
          "data": {
            "text/plain": [
              "<Figure size 432x288 with 1 Axes>"
            ],
            "image/png": "[encoded data removed]"
          },
          "metadata": {
            "needs_background": "light"
          }
        }
      ],
      "source": [
        "import random\n",
        "from collections import Counter\n",
        "import matplotlib.pyplot as plot\n",
        "\n",
        "resultados = []\n",
        "\n",
        "for i in range(10):\n",
        "  valord1 = random.randrange(1, 7)\n",
        "  valord2 = random.randrange(1, 7)\n",
        "  suma = valord1+valord2\n",
        "  resultados.append (suma)\n",
        "print (resultados)\n",
        "\n",
        "resultado={}\n",
        "for clave in range (2,13):  \n",
        "    resultado[clave] = resultados.count(clave)\n",
        "print(resultado)\n",
        "\n",
        "\n",
        "plot.bar(resultado.keys(), resultado.values()) #calculamos los extremos de los intervalos\n",
        "\n",
        "plot.show() #dibujamos el histograma\n"
      ]
    },
    {
      "cell_type": "code",
      "source": [
        "import random\n",
        "from collections import Counter\n",
        "import matplotlib.pyplot as plot\n",
        "\n",
        "resultados = []\n",
        "\n",
        "for i in range(100):\n",
        "  valord1 = random.randrange(1, 7)\n",
        "  valord2 = random.randrange(1, 7)\n",
        "  suma = valord1+valord2\n",
        "  resultados.append (suma)\n",
        "print (resultados)\n",
        "\n",
        "conteo=Counter(resultados)\n",
        "resultado={}\n",
        "for clave in range (2,13):  \n",
        "    valor=conteo[clave]\n",
        "    if valor != 0:\n",
        "     resultado[clave] = valor\n",
        "print(resultado)\n",
        "\n",
        "plot.bar(resultado.keys(), resultado.values()) #calculamos los extremos de los intervalos\n",
        "\n",
        "plot.show() #dibujamos el histograma"
      ],
      "metadata": {
        "colab": {
          "base_uri": "https://localhost:8080/",
          "height": 320
        },
        "id": "MpbAHl3Ek6Ng",
        "outputId": "f251bf23-7cf6-49fa-9206-4c8e0471d297"
      },
      "execution_count": 2,
      "outputs": [
        {
          "output_type": "stream",
          "name": "stdout",
          "text": [
            "[3, 9, 5, 3, 7, 10, 5, 6, 11, 5, 9, 3, 8, 12, 4, 12, 11, 4, 5, 9, 3, 8, 6, 7, 7, 6, 9, 8, 6, 8, 9, 6, 12, 5, 9, 8, 9, 9, 6, 6, 7, 8, 8, 5, 3, 6, 3, 8, 9, 9, 7, 4, 5, 11, 9, 3, 9, 6, 4, 7, 7, 8, 11, 8, 9, 6, 6, 9, 4, 12, 6, 9, 9, 8, 5, 9, 3, 6, 8, 8, 5, 7, 8, 8, 4, 8, 6, 5, 12, 7, 3, 6, 8, 9, 8, 7, 4, 6, 8, 5]\n",
            "{3: 9, 4: 7, 5: 11, 6: 16, 7: 10, 8: 19, 9: 18, 10: 1, 11: 4, 12: 5}\n"
          ]
        },
        {
          "output_type": "display_data",
          "data": {
            "text/plain": [
              "<Figure size 432x288 with 1 Axes>"
            ],
            "image/png": "[encoded data removed]"
          },
          "metadata": {
            "needs_background": "light"
          }
        }
      ]
    },
    {
      "cell_type": "code",
      "source": [
        "import random\n",
        "from collections import Counter\n",
        "import matplotlib.pyplot as plot\n",
        "\n",
        "resultados = []\n",
        "\n",
        "for i in range(1000):\n",
        "  valord1 = random.randrange(1, 7)\n",
        "  valord2 = random.randrange(1, 7)\n",
        "  suma = valord1+valord2\n",
        "  resultados.append (suma)\n",
        "print (resultados)\n",
        "\n",
        "conteo=Counter(resultados)\n",
        "resultado={}\n",
        "for clave in range(2,13):  \n",
        "    valor=conteo[clave]\n",
        "    if valor != 0:\n",
        "     resultado[clave] = valor\n",
        "print(resultado)\n",
        "\n",
        "plot.bar(resultado.keys(), resultado.values()) #calculamos los extremos de los intervalos\n",
        "\n",
        "plot.show() #dibujamos el histograma"
      ],
      "metadata": {
        "colab": {
          "base_uri": "https://localhost:8080/",
          "height": 320
        },
        "id": "BOliedFylF2a",
        "outputId": "e3a9c4b7-bd73-4c4f-cdda-f7da03b8904b"
      },
      "execution_count": 3,
      "outputs": [
        {
          "output_type": "stream",
          "name": "stdout",
          "text": [
            "[12, 5, 7, 6, 9, 7, 7, 3, 9, 5, 7, 7, 10, 3, 9, 10, 12, 10, 6, 6, 11, 8, 7, 7, 6, 8, 9, 7, 6, 6, 11, 8, 6, 12, 9, 8, 7, 9, 6, 11, 8, 7, 3, 9, 8, 8, 4, 8, 10, 9, 9, 7, 9, 8, 6, 6, 8, 7, 6, 10, 6, 6, 9, 9, 9, 6, 4, 8, 8, 10, 2, 7, 7, 7, 7, 6, 8, 6, 4, 5, 3, 8, 8, 4, 8, 7, 10, 8, 6, 8, 8, 8, 9, 5, 4, 12, 8, 8, 5, 7, 11, 9, 4, 9, 8, 2, 8, 4, 6, 11, 9, 6, 8, 7, 9, 9, 4, 4, 9, 6, 6, 10, 6, 5, 4, 4, 4, 6, 5, 5, 5, 9, 6, 4, 11, 7, 11, 7, 8, 3, 7, 5, 8, 10, 8, 7, 9, 7, 6, 6, 3, 5, 7, 7, 11, 6, 10, 8, 6, 9, 8, 6, 4, 10, 3, 5, 9, 5, 8, 2, 2, 6, 8, 10, 6, 9, 2, 11, 8, 5, 7, 10, 10, 9, 6, 8, 6, 4, 11, 6, 11, 8, 9, 8, 11, 7, 8, 6, 11, 6, 4, 3, 9, 12, 7, 9, 4, 7, 5, 5, 9, 7, 9, 9, 7, 10, 8, 7, 11, 6, 7, 5, 3, 2, 11, 4, 9, 11, 3, 8, 7, 7, 7, 5, 5, 7, 3, 3, 11, 7, 7, 9, 7, 5, 7, 8, 7, 11, 6, 9, 7, 9, 7, 9, 6, 10, 7, 9, 6, 3, 8, 5, 5, 9, 3, 11, 6, 4, 5, 10, 4, 7, 9, 7, 11, 4, 12, 9, 12, 7, 6, 10, 7, 4, 8, 6, 5, 6, 5, 6, 9, 7, 6, 5, 6, 6, 12, 10, 10, 5, 4, 5, 12, 3, 2, 2, 4, 4, 9, 3, 2, 7, 4, 8, 6, 12, 11, 4, 8, 11, 8, 6, 11, 7, 4, 7, 7, 2, 10, 9, 9, 8, 6, 7, 6, 4, 8, 7, 7, 5, 5, 6, 9, 6, 6, 11, 9, 5, 9, 9, 4, 8, 10, 7, 10, 7, 6, 5, 5, 4, 8, 6, 8, 11, 9, 12, 9, 10, 5, 8, 8, 6, 7, 6, 6, 10, 12, 6, 7, 8, 6, 8, 9, 9, 7, 10, 9, 11, 5, 6, 4, 5, 6, 10, 9, 6, 9, 8, 8, 6, 8, 4, 7, 9, 9, 8, 7, 7, 6, 10, 7, 6, 8, 6, 5, 11, 7, 12, 6, 4, 5, 11, 9, 6, 12, 5, 12, 4, 9, 5, 4, 3, 8, 5, 9, 6, 4, 10, 11, 6, 9, 7, 10, 5, 2, 5, 9, 3, 7, 8, 4, 8, 6, 4, 11, 10, 5, 11, 7, 6, 9, 8, 10, 6, 8, 9, 5, 7, 4, 3, 6, 10, 8, 5, 7, 5, 6, 12, 9, 6, 11, 5, 6, 8, 6, 12, 6, 9, 7, 8, 8, 8, 6, 7, 6, 9, 4, 4, 7, 5, 5, 7, 8, 4, 7, 5, 7, 4, 7, 6, 11, 6, 7, 9, 8, 11, 10, 11, 4, 8, 3, 9, 7, 12, 7, 6, 7, 7, 7, 7, 5, 6, 7, 9, 8, 11, 6, 8, 9, 10, 7, 9, 6, 4, 10, 8, 3, 9, 4, 4, 11, 9, 6, 4, 8, 7, 8, 7, 5, 5, 4, 3, 7, 8, 4, 11, 7, 9, 7, 12, 7, 9, 4, 5, 6, 6, 6, 7, 10, 5, 4, 5, 10, 10, 11, 8, 2, 4, 5, 7, 7, 9, 7, 7, 8, 8, 7, 6, 3, 6, 12, 7, 5, 11, 6, 4, 6, 8, 5, 7, 9, 7, 12, 4, 6, 6, 8, 4, 8, 11, 6, 4, 6, 4, 2, 8, 6, 3, 7, 5, 7, 9, 9, 7, 9, 7, 10, 11, 9, 5, 5, 3, 6, 7, 7, 5, 11, 8, 5, 10, 4, 10, 7, 7, 4, 6, 6, 6, 6, 9, 5, 5, 3, 11, 9, 9, 8, 11, 5, 9, 5, 8, 5, 8, 3, 4, 6, 4, 8, 12, 11, 10, 8, 8, 4, 6, 5, 4, 8, 5, 6, 8, 11, 9, 10, 7, 3, 7, 7, 5, 3, 5, 10, 10, 10, 8, 10, 8, 8, 7, 3, 6, 5, 7, 7, 8, 12, 8, 6, 10, 8, 11, 6, 10, 7, 6, 5, 7, 10, 6, 9, 7, 7, 6, 8, 5, 7, 8, 8, 8, 7, 3, 8, 8, 6, 11, 10, 6, 6, 11, 11, 8, 12, 6, 8, 11, 10, 10, 5, 4, 8, 7, 7, 5, 6, 8, 7, 12, 5, 10, 7, 8, 8, 9, 9, 10, 7, 10, 4, 4, 9, 11, 12, 7, 3, 2, 5, 6, 3, 7, 6, 8, 6, 7, 3, 7, 7, 7, 4, 4, 10, 3, 5, 11, 5, 8, 8, 3, 7, 4, 3, 6, 9, 5, 8, 6, 6, 7, 7, 11, 5, 6, 9, 10, 8, 7, 5, 5, 3, 3, 8, 7, 6, 5, 4, 11, 7, 7, 6, 5, 6, 7, 11, 7, 9, 12, 7, 7, 5, 5, 10, 6, 4, 5, 12, 5, 8, 7, 10, 8, 6, 7, 9, 9, 3, 10, 3, 6, 3, 6, 5, 9, 6, 5, 8, 2, 3, 7, 6, 8, 10, 4, 7, 5, 3, 8, 6, 7, 4, 6, 7, 7, 9, 10, 8, 11, 9, 6, 5, 7, 9, 12, 3, 8, 7, 5, 5, 4, 8, 4, 5, 8, 11, 5, 9, 10, 8, 5, 4, 9, 5, 5, 3, 9, 6, 12, 9, 8, 4, 6, 6, 12, 9, 2, 8, 8, 5, 11, 3, 8, 10, 3, 4, 12, 6, 9, 11, 8, 8, 8, 8, 7, 4, 9, 11, 9, 3, 5, 6, 10, 6, 5, 8, 6, 5, 8, 5, 8, 4, 3, 5, 4, 9, 7, 11, 5, 4, 10, 11, 7, 9, 7, 7, 10, 10, 6, 9, 10, 11, 3, 12, 3, 4, 12, 6, 4, 5, 3, 8, 9]\n",
            "{2: 16, 3: 53, 4: 86, 5: 112, 6: 150, 7: 160, 8: 140, 9: 113, 10: 71, 11: 65, 12: 34}\n"
          ]
        },
        {
          "output_type": "display_data",
          "data": {
            "text/plain": [
              "<Figure size 432x288 with 1 Axes>"
            ],
            "image/png": "[encoded data removed]"
          },
          "metadata": {
            "needs_background": "light"
          }
        }
      ]
    }
  ]
}